{
 "cells": [
  {
   "cell_type": "code",
   "execution_count": null,
   "id": "e17b4766",
   "metadata": {},
   "outputs": [],
   "source": [
    "%pylab inline\n",
    "import os\n",
    "import miri_lrs_fm\n",
    "import jwst\n",
    "import webbpsf"
   ]
  },
  {
   "cell_type": "markdown",
   "id": "2639bc84",
   "metadata": {},
   "source": [
    "## Find input files"
   ]
  },
  {
   "cell_type": "code",
   "execution_count": null,
   "id": "f224db37",
   "metadata": {},
   "outputs": [],
   "source": [
    "!ls 03762/"
   ]
  },
  {
   "cell_type": "code",
   "execution_count": null,
   "id": "9a2beda4",
   "metadata": {},
   "outputs": [],
   "source": [
    "fn_ta = '03762/jw03762002001_02101_00001_mirimage_cal.fits'\n",
    "fn_taconfirm = '03762/jw03762002001_03102_00001_mirimage_cal.fits'"
   ]
  },
  {
   "cell_type": "markdown",
   "id": "1076cf5b",
   "metadata": {},
   "source": [
    "For the dispersed images, we don't want to use the MAST version of the CAL files\n",
    "\n",
    "Need to use re-reductions of these, which do NOT include the dither subtractions. Can do this simply by\n",
    "running spec2 pipeline manually, like: \n",
    "\n",
    "```\n",
    "spec2 = jwst.pipeline.calwebb_spec2.Spec2Pipeline()\n",
    "spec2.call(filename, save_results=True)\n",
    "```\n",
    "\n",
    "I did so in a subdirectory `no_dither_sub` when running this originally. \n"
   ]
  },
  {
   "cell_type": "code",
   "execution_count": null,
   "id": "df151067",
   "metadata": {},
   "outputs": [],
   "source": [
    "# fn_sci_dith1 = 'no_dither_sub/jw03762002001_03103_00001_mirimage_cal.fits'\n",
    "# fn_sci_dith2 = 'no_dither_sub/jw03762002001_03103_00002_mirimage_cal.fits'"
   ]
  },
  {
   "cell_type": "markdown",
   "id": "b4ffd6bf",
   "metadata": {},
   "source": [
    "Furthermore we can improve on that using a custom bad-pixel-finding-and-cleaning routine I wrote as part of this. \n",
    "This cleans up the outliers before modeling. THis is not essential but is helpful. \n",
    "\n",
    "The cell below will call and create those if they don't already exist"
   ]
  },
  {
   "cell_type": "code",
   "execution_count": null,
   "id": "f59c02bf",
   "metadata": {},
   "outputs": [],
   "source": [
    "# We also want to run a bad pixel cleaning routine to clean up the outliers before modeling. \n",
    "\n",
    "fn_sci_dith1 = 'no_dither_sub/jw03762002001_03103_00001_mirimage_bpclean.fits'\n",
    "fn_sci_dith2 = 'no_dither_sub/jw03762002001_03103_00002_mirimage_bpclean.fits'\n",
    "\n",
    "# Do this the first time this notebook runs, no need to redo after\n",
    "if not os.path.exists(fn_sci_dith1):\n",
    "    print(\"Running bad pixel cleaning routine\")\n",
    "\n",
    "    for exp in [1,2]:\n",
    "        fn = f'no_dither_sub/jw03762002001_03103_0000{exp}_mirimage_cal.fits'\n",
    "        model = jwst.datamodels.open(fn)\n",
    "        miri_lrs_fm.find_and_replace_outlier_pixels(model, save_path = 'no_dither_sub', \n",
    "                                                    nsigma=20, median_size=5)  # parameters slightly tuned here to optimize on these data"
   ]
  },
  {
   "cell_type": "code",
   "execution_count": null,
   "id": "81f92a2f",
   "metadata": {},
   "outputs": [],
   "source": [
    "# Load those files into jwst datamodels objects\n",
    "model_ta = jwst.datamodels.open(fn_ta)\n",
    "model_taconfirm = jwst.datamodels.open(fn_taconfirm)\n",
    "model_sci_dith1 = jwst.datamodels.open(fn_sci_dith1)\n",
    "model_sci_dith2 = jwst.datamodels.open(fn_sci_dith2)\n",
    "\n",
    "\n",
    "# We can get the host star coords at the time of observations (include proper motion etc)\n",
    "# from the header metadata of the TA image:\n",
    "host_star_coords = miri_lrs_fm.get_target_coords(model_ta)  "
   ]
  },
  {
   "cell_type": "markdown",
   "id": "306e6850",
   "metadata": {},
   "source": [
    "# Measure the WCS offset in the target acq image. \n",
    "\n",
    "Note, the observatory's actual pointing onboard was corrected using the target acq image -- but the WCS headers continue to be derived from the same guide star, thus effectively there's a constand offset in the WCS throughout the whole visit. We measure that here:"
   ]
  },
  {
   "cell_type": "code",
   "execution_count": null,
   "id": "43a19ed7",
   "metadata": {},
   "outputs": [],
   "source": [
    "res, cov, wcsoffset = miri_lrs_fm.ta_position_fit_plot(model_ta, saveplot=True) "
   ]
  },
  {
   "cell_type": "code",
   "execution_count": null,
   "id": "4ff09c4f",
   "metadata": {},
   "outputs": [],
   "source": [
    "miri_lrs_fm.plot_ta_verification_image(model_taconfirm, \n",
    "                                       wcs_offset=wcsoffset, box_size=80,\n",
    "                                       host_star_coords=host_star_coords)"
   ]
  },
  {
   "cell_type": "markdown",
   "id": "1030e35b",
   "metadata": {},
   "source": [
    "## Setup webbpsf sim to match that observation"
   ]
  },
  {
   "cell_type": "code",
   "execution_count": null,
   "id": "8aa3fe61",
   "metadata": {},
   "outputs": [],
   "source": [
    "miri = miri_lrs_fm.setup_sim_to_match_file(fn_taconfirm)"
   ]
  },
  {
   "cell_type": "markdown",
   "id": "4f02a2b1",
   "metadata": {},
   "source": [
    "### Refine the WCS offset used, to better match the simulation to the data\n",
    "\n",
    "This part I did iteratively, re-running the notebook multiples times.\n",
    "\n",
    "You can set an X, Y offset that's applied in addition to the WCS offset derived above. "
   ]
  },
  {
   "cell_type": "code",
   "execution_count": null,
   "id": "857b09d6",
   "metadata": {},
   "outputs": [],
   "source": [
    "# VALUE COPIED FFROM YSES 1 ANALYSES:\n",
    "tweak_offset = (-0.227, -0.50)  # Derived from running the below without a tweak offset, and seeing what the\n",
    "                               # residual is between the WCS offset coords and the Gaussian fit center coords. "
   ]
  },
  {
   "cell_type": "code",
   "execution_count": null,
   "id": "dad797b5",
   "metadata": {},
   "outputs": [],
   "source": [
    "tweak_offset=None"
   ]
  },
  {
   "cell_type": "code",
   "execution_count": null,
   "id": "29fdf52f",
   "metadata": {},
   "outputs": [],
   "source": [
    "tweak_offset = (-0.2, -0.06)  # Derived from a first iteration of this code, using offset = None\n",
    "                              # then using the registration function below"
   ]
  },
  {
   "cell_type": "code",
   "execution_count": null,
   "id": "4680b3ee",
   "metadata": {},
   "outputs": [],
   "source": [
    "tweak_offset"
   ]
  },
  {
   "cell_type": "markdown",
   "id": "ff85cd98",
   "metadata": {},
   "source": [
    "## Generate test PSF model for the TA Confirm observation"
   ]
  },
  {
   "cell_type": "code",
   "execution_count": null,
   "id": "41bd6af5",
   "metadata": {},
   "outputs": [],
   "source": [
    "miri_lrs_fm.plot_taconfirm_psf_comparison(model_taconfirm, miri, \n",
    "                                          host_star_coords, wcsoffset, tweak_offset=tweak_offset,\n",
    "                                          vmax=100)"
   ]
  },
  {
   "cell_type": "markdown",
   "id": "03b6a9ee",
   "metadata": {},
   "source": [
    "## Check the dither observation distance\n",
    "\n",
    "I *think* this should be the same in all cases, within the observatory dither precision of a few milliarcseconds.\n",
    "This seems to be the case for at least the handful of MIRI LRS observations checked thus far. \n",
    "\n",
    "Side question: Empirically the dither move is close to, but not actually, (17,0) pixels. Intentionally??"
   ]
  },
  {
   "cell_type": "code",
   "execution_count": null,
   "id": "21785508",
   "metadata": {},
   "outputs": [],
   "source": [
    "dither_offset = miri_lrs_fm.measure_dither_offset(model_sci_dith1, model_sci_dith2, plot=True, saveplot=True)"
   ]
  },
  {
   "cell_type": "markdown",
   "id": "e6833dc0",
   "metadata": {},
   "source": [
    "# Generate PSF datacube over wavelengths"
   ]
  },
  {
   "cell_type": "code",
   "execution_count": null,
   "id": "10ed4713",
   "metadata": {},
   "outputs": [],
   "source": [
    "# This is slow the first time, but will save the cube to disk for subsequent reuse on later calls\n",
    "psfs_cube, y_samp, wave_samp, converters = miri_lrs_fm.generate_lrs_psf_cube(model_taconfirm, model_sci_dith1, miri,\n",
    "                                                                             host_star_coords, wcsoffset,\n",
    "                                                                             tweak_offset=tweak_offset,\n",
    "                                                                             #nlambda= 20,\n",
    "                                                                             nlambda=None # do all wavelengths\n",
    "                                                                             )"
   ]
  },
  {
   "cell_type": "code",
   "execution_count": null,
   "id": "edb7f7d2",
   "metadata": {},
   "outputs": [],
   "source": [
    "if tweak_offset is None:\n",
    "    tweak_offset = (0,0)\n",
    "tweak_offset_dith2 = list(np.asarray(tweak_offset) - dither_offset)  # Note the sign needs to be negative here!\n",
    "\n",
    "\n",
    "# This is slow the first time, but will save the cube to disk for subsequent reuse on later calls\n",
    "psfs_cube_d2, y_samp_d2, wave_samp_d2, converters_d2 = miri_lrs_fm.generate_lrs_psf_cube(model_taconfirm, \n",
    "                                                                                         model_sci_dith2, miri,\n",
    "                                                                             host_star_coords, wcsoffset,\n",
    "                                                                             tweak_offset=tweak_offset_dith2,\n",
    "                                                                             )"
   ]
  },
  {
   "cell_type": "markdown",
   "id": "5ff0e5a7",
   "metadata": {},
   "source": [
    "### Disperse the PSF\n",
    "\n",
    "This uses the wavecal to disperse the monochromatic sims. "
   ]
  },
  {
   "cell_type": "code",
   "execution_count": null,
   "id": "d87f846b",
   "metadata": {},
   "outputs": [],
   "source": [
    "dispersed_model_d1 = miri_lrs_fm.generate_dispersed_lrs_model(psfs_cube, miri, \n",
    "                                                                   wave_samp, converters, \n",
    "                                                                   powerlaw=2, \n",
    "                                                                   add_cruciform=True)"
   ]
  },
  {
   "cell_type": "code",
   "execution_count": null,
   "id": "86c55a15",
   "metadata": {},
   "outputs": [],
   "source": [
    "dispersed_model_d2 = miri_lrs_fm.generate_dispersed_lrs_model(psfs_cube_d2, miri, \n",
    "                                                                   wave_samp_d2, converters_d2, \n",
    "                                                                   powerlaw=2, \n",
    "                                                                   add_cruciform=True)"
   ]
  },
  {
   "cell_type": "markdown",
   "id": "92a4980f",
   "metadata": {},
   "source": [
    "### Estimate the background\n",
    "\n",
    "We use the estimated background to remove it from the data, at least approximately, prior to fitting the scale factor between the model PSF and the data. A rough approximation is sufficient for that, it seems. "
   ]
  },
  {
   "cell_type": "code",
   "execution_count": null,
   "id": "3d3b815b",
   "metadata": {},
   "outputs": [],
   "source": [
    "bg, axes = miri_lrs_fm.estimate_background_spectrum(model_sci_dith1, miri, plot=True)"
   ]
  },
  {
   "cell_type": "markdown",
   "id": "b387e581",
   "metadata": {},
   "source": [
    "### Measure and refine the alignment\n",
    "\n",
    "This is where we got the tweak_wcsoffset value used above... Ran this with the initial version of the PSFs\n",
    "with no tweak_wcsoffset, measured the offset, copied that value above, deleted the pre-computed PSFs so it would recompute the next time, and re-ran the notebook. "
   ]
  },
  {
   "cell_type": "code",
   "execution_count": null,
   "id": "1adc7cad",
   "metadata": {
    "scrolled": false
   },
   "outputs": [],
   "source": [
    "miri_lrs_fm.image_registration_dispersed_model(model_sci_dith2, dispersed_model_d2, bg) "
   ]
  },
  {
   "cell_type": "code",
   "execution_count": null,
   "id": "f5be431a",
   "metadata": {},
   "outputs": [],
   "source": [
    "# In this case wec can try this on dither 1, \n",
    "# but it doesn't work super well since there's not much SNR on the speckles.\n",
    "miri_lrs_fm.image_registration_dispersed_model(model_sci_dith1, dispersed_model_d1, bg) "
   ]
  },
  {
   "cell_type": "markdown",
   "id": "6c36a941",
   "metadata": {},
   "source": [
    "## Subtract the model from the data"
   ]
  },
  {
   "cell_type": "code",
   "execution_count": null,
   "id": "b7d5ae45",
   "metadata": {
    "scrolled": false
   },
   "outputs": [],
   "source": [
    "sub_dith1 = miri_lrs_fm.scale_and_subtract_dispersed_model(model_sci_dith1, dispersed_model_d1, bg, \n",
    "                                                           converters, vmax=1e3) "
   ]
  },
  {
   "cell_type": "code",
   "execution_count": null,
   "id": "0d4fe949",
   "metadata": {
    "scrolled": false
   },
   "outputs": [],
   "source": [
    "sub_dith2 = miri_lrs_fm.scale_and_subtract_dispersed_model(model_sci_dith2, dispersed_model_d2, bg, \n",
    "                                                           converters, vmax=1000)"
   ]
  },
  {
   "cell_type": "code",
   "execution_count": null,
   "id": "8484c095",
   "metadata": {},
   "outputs": [],
   "source": [
    "sub_dith1 = jwst.datamodels.open('./jw03762002001_03103_00001_mirimage_starsub.fits')\n",
    "sub_dith2 = jwst.datamodels.open('./jw03762002001_03103_00002_mirimage_starsub.fits')"
   ]
  },
  {
   "cell_type": "code",
   "execution_count": null,
   "id": "4e42177d",
   "metadata": {},
   "outputs": [],
   "source": [
    "miri_lrs_fm.display_dither_comparisons(model_sci_dith1, model_sci_dith2, \n",
    "                               sub_dith1, sub_dith2, converters)"
   ]
  },
  {
   "cell_type": "code",
   "execution_count": null,
   "id": "5a513b80",
   "metadata": {},
   "outputs": [],
   "source": [
    "!open ."
   ]
  },
  {
   "cell_type": "code",
   "execution_count": null,
   "id": "171ab2a2",
   "metadata": {},
   "outputs": [],
   "source": []
  }
 ],
 "metadata": {
  "kernelspec": {
   "display_name": "Python 3 (ipykernel)",
   "language": "python",
   "name": "python3"
  },
  "language_info": {
   "codemirror_mode": {
    "name": "ipython",
    "version": 3
   },
   "file_extension": ".py",
   "mimetype": "text/x-python",
   "name": "python",
   "nbconvert_exporter": "python",
   "pygments_lexer": "ipython3",
   "version": "3.11.3"
  }
 },
 "nbformat": 4,
 "nbformat_minor": 5
}
